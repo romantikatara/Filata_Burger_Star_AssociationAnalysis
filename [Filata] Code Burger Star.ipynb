{
 "cells": [
  {
   "cell_type": "markdown",
   "metadata": {},
   "source": [
    "## Burger Star Dataset"
   ]
  },
  {
   "cell_type": "markdown",
   "metadata": {},
   "source": [
    "Pada Dataset Burger Star akan dilakukan machine learning dengan metode Asosiasi untuk mengetahui hubungan erat antar atribut yang mana ketika pelanggan memilih burger A maka akan diikuti oleh pemilihan minuman B atau sebaliknya. Analisis tersebut ditujukan untuk memberikan rekomendasi \"paket menu\" yang diminati oleh pelanggan. Dimana dengan adanya rekomendasi tersebut diharapkan produktivitas penjualan outlet Burger Star akan meningkat sehingga dapat berkontribusi dalam peningkatan profit Burger Star secara umum. <br>"
   ]
  },
  {
   "cell_type": "markdown",
   "metadata": {},
   "source": [
    "### Import dan Install Libraries"
   ]
  },
  {
   "cell_type": "markdown",
   "metadata": {},
   "source": [
    "Melakukan instalasi seluruh libraries yang dibutuhkan untuk melakukan analisis Asosiasi."
   ]
  },
  {
   "cell_type": "code",
   "execution_count": 1,
   "metadata": {},
   "outputs": [],
   "source": [
    "import numpy as np\n",
    "import pandas as pd\n",
    "import seaborn as sns\n",
    "import matplotlib.pyplot as plt"
   ]
  },
  {
   "cell_type": "code",
   "execution_count": 2,
   "metadata": {},
   "outputs": [
    {
     "name": "stdout",
     "output_type": "stream",
     "text": [
      "Requirement already satisfied: apyori in c:\\programdata\\anaconda3\\lib\\site-packages (1.1.1)\n"
     ]
    }
   ],
   "source": [
    "!pip install apyori"
   ]
  },
  {
   "cell_type": "code",
   "execution_count": 3,
   "metadata": {},
   "outputs": [],
   "source": [
    "from apyori import apriori"
   ]
  },
  {
   "cell_type": "markdown",
   "metadata": {},
   "source": [
    "### Load Dataset Burger Star"
   ]
  },
  {
   "cell_type": "code",
   "execution_count": 60,
   "metadata": {},
   "outputs": [
    {
     "data": {
      "text/html": [
       "<div>\n",
       "<style scoped>\n",
       "    .dataframe tbody tr th:only-of-type {\n",
       "        vertical-align: middle;\n",
       "    }\n",
       "\n",
       "    .dataframe tbody tr th {\n",
       "        vertical-align: top;\n",
       "    }\n",
       "\n",
       "    .dataframe thead th {\n",
       "        text-align: right;\n",
       "    }\n",
       "</style>\n",
       "<table border=\"1\" class=\"dataframe\">\n",
       "  <thead>\n",
       "    <tr style=\"text-align: right;\">\n",
       "      <th></th>\n",
       "      <th>Timestamp</th>\n",
       "      <th>Type Burger</th>\n",
       "      <th>Code Burger</th>\n",
       "      <th>Amount Burger</th>\n",
       "      <th>Type Drink</th>\n",
       "      <th>Code Drink</th>\n",
       "      <th>Amount Drink</th>\n",
       "      <th>Gender</th>\n",
       "      <th>Payment</th>\n",
       "    </tr>\n",
       "  </thead>\n",
       "  <tbody>\n",
       "    <tr>\n",
       "      <th>0</th>\n",
       "      <td>10:01</td>\n",
       "      <td>Beef burger</td>\n",
       "      <td>1</td>\n",
       "      <td>6</td>\n",
       "      <td>Mineral water</td>\n",
       "      <td>1</td>\n",
       "      <td>3</td>\n",
       "      <td>1</td>\n",
       "      <td>DANA</td>\n",
       "    </tr>\n",
       "    <tr>\n",
       "      <th>1</th>\n",
       "      <td>10:04</td>\n",
       "      <td>Cheese burger</td>\n",
       "      <td>3</td>\n",
       "      <td>12</td>\n",
       "      <td>Coke</td>\n",
       "      <td>2</td>\n",
       "      <td>10</td>\n",
       "      <td>0</td>\n",
       "      <td>DANA</td>\n",
       "    </tr>\n",
       "    <tr>\n",
       "      <th>2</th>\n",
       "      <td>10:05</td>\n",
       "      <td>Double cheese burger</td>\n",
       "      <td>4</td>\n",
       "      <td>10</td>\n",
       "      <td>Mineral water</td>\n",
       "      <td>1</td>\n",
       "      <td>5</td>\n",
       "      <td>0</td>\n",
       "      <td>LINK AJA</td>\n",
       "    </tr>\n",
       "    <tr>\n",
       "      <th>3</th>\n",
       "      <td>10:06</td>\n",
       "      <td>Chicken burger</td>\n",
       "      <td>2</td>\n",
       "      <td>9</td>\n",
       "      <td>Coffe</td>\n",
       "      <td>3</td>\n",
       "      <td>9</td>\n",
       "      <td>0</td>\n",
       "      <td>DANA</td>\n",
       "    </tr>\n",
       "    <tr>\n",
       "      <th>4</th>\n",
       "      <td>10:07</td>\n",
       "      <td>Cheese burger</td>\n",
       "      <td>3</td>\n",
       "      <td>11</td>\n",
       "      <td>Coke</td>\n",
       "      <td>2</td>\n",
       "      <td>3</td>\n",
       "      <td>1</td>\n",
       "      <td>DANA</td>\n",
       "    </tr>\n",
       "    <tr>\n",
       "      <th>5</th>\n",
       "      <td>10:08</td>\n",
       "      <td>Double cheese burger</td>\n",
       "      <td>4</td>\n",
       "      <td>8</td>\n",
       "      <td>Mineral water</td>\n",
       "      <td>1</td>\n",
       "      <td>4</td>\n",
       "      <td>1</td>\n",
       "      <td>DANA</td>\n",
       "    </tr>\n",
       "    <tr>\n",
       "      <th>6</th>\n",
       "      <td>10:09</td>\n",
       "      <td>Beef burger</td>\n",
       "      <td>1</td>\n",
       "      <td>7</td>\n",
       "      <td>Mineral water</td>\n",
       "      <td>1</td>\n",
       "      <td>7</td>\n",
       "      <td>1</td>\n",
       "      <td>GOPAY</td>\n",
       "    </tr>\n",
       "    <tr>\n",
       "      <th>7</th>\n",
       "      <td>10:11</td>\n",
       "      <td>Beef burger</td>\n",
       "      <td>1</td>\n",
       "      <td>6</td>\n",
       "      <td>Mineral water</td>\n",
       "      <td>1</td>\n",
       "      <td>3</td>\n",
       "      <td>1</td>\n",
       "      <td>TUNAI</td>\n",
       "    </tr>\n",
       "    <tr>\n",
       "      <th>8</th>\n",
       "      <td>10:12</td>\n",
       "      <td>Double cheese burger</td>\n",
       "      <td>4</td>\n",
       "      <td>5</td>\n",
       "      <td>Coffe</td>\n",
       "      <td>3</td>\n",
       "      <td>2</td>\n",
       "      <td>0</td>\n",
       "      <td>TUNAI</td>\n",
       "    </tr>\n",
       "    <tr>\n",
       "      <th>9</th>\n",
       "      <td>10:16</td>\n",
       "      <td>Chicken burger</td>\n",
       "      <td>2</td>\n",
       "      <td>9</td>\n",
       "      <td>Coffe</td>\n",
       "      <td>3</td>\n",
       "      <td>9</td>\n",
       "      <td>0</td>\n",
       "      <td>TUNAI</td>\n",
       "    </tr>\n",
       "  </tbody>\n",
       "</table>\n",
       "</div>"
      ],
      "text/plain": [
       "  Timestamp           Type Burger  Code Burger  Amount Burger     Type Drink  \\\n",
       "0     10:01           Beef burger            1              6  Mineral water   \n",
       "1     10:04         Cheese burger            3             12           Coke   \n",
       "2     10:05  Double cheese burger            4             10  Mineral water   \n",
       "3     10:06        Chicken burger            2              9          Coffe   \n",
       "4     10:07         Cheese burger            3             11           Coke   \n",
       "5     10:08  Double cheese burger            4              8  Mineral water   \n",
       "6     10:09           Beef burger            1              7  Mineral water   \n",
       "7     10:11           Beef burger            1              6  Mineral water   \n",
       "8     10:12  Double cheese burger            4              5          Coffe   \n",
       "9     10:16        Chicken burger            2              9          Coffe   \n",
       "\n",
       "   Code Drink  Amount Drink  Gender   Payment  \n",
       "0           1             3       1      DANA  \n",
       "1           2            10       0      DANA  \n",
       "2           1             5       0  LINK AJA  \n",
       "3           3             9       0      DANA  \n",
       "4           2             3       1      DANA  \n",
       "5           1             4       1      DANA  \n",
       "6           1             7       1     GOPAY  \n",
       "7           1             3       1     TUNAI  \n",
       "8           3             2       0     TUNAI  \n",
       "9           3             9       0     TUNAI  "
      ]
     },
     "execution_count": 60,
     "metadata": {},
     "output_type": "execute_result"
    }
   ],
   "source": [
    "df = pd.read_csv('Static Dataset Transaction - Burger Star (Outlet A) .csv')\n",
    "df.head(10)"
   ]
  },
  {
   "cell_type": "markdown",
   "metadata": {},
   "source": [
    "### Data Type, Description and Dimension Dataset"
   ]
  },
  {
   "cell_type": "code",
   "execution_count": 5,
   "metadata": {},
   "outputs": [
    {
     "data": {
      "text/plain": [
       "(312, 9)"
      ]
     },
     "execution_count": 5,
     "metadata": {},
     "output_type": "execute_result"
    }
   ],
   "source": [
    "df.shape"
   ]
  },
  {
   "cell_type": "code",
   "execution_count": 6,
   "metadata": {},
   "outputs": [
    {
     "name": "stdout",
     "output_type": "stream",
     "text": [
      "<class 'pandas.core.frame.DataFrame'>\n",
      "RangeIndex: 312 entries, 0 to 311\n",
      "Data columns (total 9 columns):\n",
      "Timestamp        312 non-null object\n",
      "Type Burger      312 non-null object\n",
      "Code Burger      312 non-null int64\n",
      "Amount Burger    312 non-null int64\n",
      "Type Drink       312 non-null object\n",
      "Code Drink       312 non-null int64\n",
      "Amount Drink     312 non-null int64\n",
      "Gender           312 non-null int64\n",
      "Payment          312 non-null object\n",
      "dtypes: int64(5), object(4)\n",
      "memory usage: 22.0+ KB\n"
     ]
    }
   ],
   "source": [
    "df.info()"
   ]
  },
  {
   "cell_type": "code",
   "execution_count": 7,
   "metadata": {},
   "outputs": [
    {
     "data": {
      "text/html": [
       "<div>\n",
       "<style scoped>\n",
       "    .dataframe tbody tr th:only-of-type {\n",
       "        vertical-align: middle;\n",
       "    }\n",
       "\n",
       "    .dataframe tbody tr th {\n",
       "        vertical-align: top;\n",
       "    }\n",
       "\n",
       "    .dataframe thead th {\n",
       "        text-align: right;\n",
       "    }\n",
       "</style>\n",
       "<table border=\"1\" class=\"dataframe\">\n",
       "  <thead>\n",
       "    <tr style=\"text-align: right;\">\n",
       "      <th></th>\n",
       "      <th>Code Burger</th>\n",
       "      <th>Amount Burger</th>\n",
       "      <th>Code Drink</th>\n",
       "      <th>Amount Drink</th>\n",
       "      <th>Gender</th>\n",
       "    </tr>\n",
       "  </thead>\n",
       "  <tbody>\n",
       "    <tr>\n",
       "      <th>count</th>\n",
       "      <td>312.000000</td>\n",
       "      <td>312.00000</td>\n",
       "      <td>312.000000</td>\n",
       "      <td>312.000000</td>\n",
       "      <td>312.000000</td>\n",
       "    </tr>\n",
       "    <tr>\n",
       "      <th>mean</th>\n",
       "      <td>2.250000</td>\n",
       "      <td>6.25000</td>\n",
       "      <td>1.637821</td>\n",
       "      <td>3.913462</td>\n",
       "      <td>0.451923</td>\n",
       "    </tr>\n",
       "    <tr>\n",
       "      <th>std</th>\n",
       "      <td>1.173803</td>\n",
       "      <td>3.45969</td>\n",
       "      <td>1.045698</td>\n",
       "      <td>2.960981</td>\n",
       "      <td>0.498483</td>\n",
       "    </tr>\n",
       "    <tr>\n",
       "      <th>min</th>\n",
       "      <td>1.000000</td>\n",
       "      <td>1.00000</td>\n",
       "      <td>0.000000</td>\n",
       "      <td>0.000000</td>\n",
       "      <td>0.000000</td>\n",
       "    </tr>\n",
       "    <tr>\n",
       "      <th>25%</th>\n",
       "      <td>1.000000</td>\n",
       "      <td>3.00000</td>\n",
       "      <td>1.000000</td>\n",
       "      <td>2.000000</td>\n",
       "      <td>0.000000</td>\n",
       "    </tr>\n",
       "    <tr>\n",
       "      <th>50%</th>\n",
       "      <td>2.000000</td>\n",
       "      <td>6.00000</td>\n",
       "      <td>2.000000</td>\n",
       "      <td>3.000000</td>\n",
       "      <td>0.000000</td>\n",
       "    </tr>\n",
       "    <tr>\n",
       "      <th>75%</th>\n",
       "      <td>3.000000</td>\n",
       "      <td>9.00000</td>\n",
       "      <td>3.000000</td>\n",
       "      <td>5.000000</td>\n",
       "      <td>1.000000</td>\n",
       "    </tr>\n",
       "    <tr>\n",
       "      <th>max</th>\n",
       "      <td>4.000000</td>\n",
       "      <td>12.00000</td>\n",
       "      <td>3.000000</td>\n",
       "      <td>10.000000</td>\n",
       "      <td>1.000000</td>\n",
       "    </tr>\n",
       "  </tbody>\n",
       "</table>\n",
       "</div>"
      ],
      "text/plain": [
       "       Code Burger  Amount Burger  Code Drink  Amount Drink      Gender\n",
       "count   312.000000      312.00000  312.000000    312.000000  312.000000\n",
       "mean      2.250000        6.25000    1.637821      3.913462    0.451923\n",
       "std       1.173803        3.45969    1.045698      2.960981    0.498483\n",
       "min       1.000000        1.00000    0.000000      0.000000    0.000000\n",
       "25%       1.000000        3.00000    1.000000      2.000000    0.000000\n",
       "50%       2.000000        6.00000    2.000000      3.000000    0.000000\n",
       "75%       3.000000        9.00000    3.000000      5.000000    1.000000\n",
       "max       4.000000       12.00000    3.000000     10.000000    1.000000"
      ]
     },
     "execution_count": 7,
     "metadata": {},
     "output_type": "execute_result"
    }
   ],
   "source": [
    "df.describe()"
   ]
  },
  {
   "cell_type": "markdown",
   "metadata": {},
   "source": [
    "### Missing Value Detection"
   ]
  },
  {
   "cell_type": "code",
   "execution_count": 8,
   "metadata": {},
   "outputs": [
    {
     "data": {
      "text/plain": [
       "Timestamp        0\n",
       "Type Burger      0\n",
       "Code Burger      0\n",
       "Amount Burger    0\n",
       "Type Drink       0\n",
       "Code Drink       0\n",
       "Amount Drink     0\n",
       "Gender           0\n",
       "Payment          0\n",
       "dtype: int64"
      ]
     },
     "execution_count": 8,
     "metadata": {},
     "output_type": "execute_result"
    }
   ],
   "source": [
    "df.isnull().sum()"
   ]
  },
  {
   "cell_type": "markdown",
   "metadata": {},
   "source": [
    "Dari dataframe Burger Star terlihat bahwa dataset tersebut terdiri atas 312 datum/tupple dan 9 kolom/features. Dari informasi dataframe didapat bahwa pada dataset tersebut hanya terdiri atas dua tipe, yaitu integer dan string/objek. Kemudian dengan adanya missing value detection diketahui bahwa data tersebut sudah rapih dan tidak ditemukan adanya missing value. <br>"
   ]
  },
  {
   "cell_type": "markdown",
   "metadata": {},
   "source": [
    "### Outliers Detection"
   ]
  },
  {
   "cell_type": "code",
   "execution_count": 9,
   "metadata": {},
   "outputs": [
    {
     "data": {
      "text/plain": [
       "<matplotlib.axes._subplots.AxesSubplot at 0x24d9a376080>"
      ]
     },
     "execution_count": 9,
     "metadata": {},
     "output_type": "execute_result"
    },
    {
     "data": {
      "image/png": "[encoded data removed]",
      "text/plain": [
       "<Figure size 432x288 with 1 Axes>"
      ]
     },
     "metadata": {
      "needs_background": "light"
     },
     "output_type": "display_data"
    }
   ],
   "source": [
    "sns.boxplot(x=df['Amount Burger'])"
   ]
  },
  {
   "cell_type": "code",
   "execution_count": 10,
   "metadata": {
    "scrolled": true
   },
   "outputs": [
    {
     "data": {
      "text/plain": [
       "<matplotlib.axes._subplots.AxesSubplot at 0x24d9a435b00>"
      ]
     },
     "execution_count": 10,
     "metadata": {},
     "output_type": "execute_result"
    },
    {
     "data": {
      "image/png": "[encoded data removed]",
      "text/plain": [
       "<Figure size 432x288 with 1 Axes>"
      ]
     },
     "metadata": {
      "needs_background": "light"
     },
     "output_type": "display_data"
    }
   ],
   "source": [
    "sns.boxplot(x=df['Amount Drink'])"
   ]
  },
  {
   "cell_type": "markdown",
   "metadata": {},
   "source": [
    "Dari kedua boxplot di atas terlihat bahwa untuk features 'Amount Burger' tidak ditemukan adanya outliers. Sementara pada features 'Amount Drink' ditemukan ada satu outliers bernilai 10 dari nilai maksimum 9. Dikarenakan nilai outliers hanya satu dan nilainya tidak terlalu jauh dari maksimum maka kami memutuskan untuk tetap menggunakan informasi tersebut."
   ]
  },
  {
   "cell_type": "markdown",
   "metadata": {},
   "source": [
    "### Some Features Distribution by values counts"
   ]
  },
  {
   "cell_type": "code",
   "execution_count": 37,
   "metadata": {},
   "outputs": [
    {
     "data": {
      "text/plain": [
       "Beef burger             116\n",
       "Chicken burger           71\n",
       "Double cheese burger     69\n",
       "Cheese burger            56\n",
       "Name: Type Burger, dtype: int64"
      ]
     },
     "execution_count": 37,
     "metadata": {},
     "output_type": "execute_result"
    }
   ],
   "source": [
    "df['Type Burger'].value_counts()"
   ]
  },
  {
   "cell_type": "markdown",
   "metadata": {},
   "source": [
    "Dari output di atas terlihat bahwa mayoritas pelanggan lebih tertarik untuk memesan beef burger daripada burger lainnya."
   ]
  },
  {
   "cell_type": "code",
   "execution_count": 38,
   "metadata": {},
   "outputs": [
    {
     "data": {
      "text/plain": [
       "Mineral water    109\n",
       "Coffe             88\n",
       "Coke              69\n",
       "None              46\n",
       "Name: Type Drink, dtype: int64"
      ]
     },
     "execution_count": 38,
     "metadata": {},
     "output_type": "execute_result"
    }
   ],
   "source": [
    "df['Type Drink'].value_counts()"
   ]
  },
  {
   "cell_type": "markdown",
   "metadata": {},
   "source": [
    "Dari output di atas terlihat bahwa mayoritas pelanggan lebih tertarik untuk memesan mineral water daripada minuman lainnya."
   ]
  },
  {
   "cell_type": "code",
   "execution_count": 39,
   "metadata": {},
   "outputs": [
    {
     "data": {
      "text/plain": [
       "LINK AJA    67\n",
       "GOPAY       65\n",
       "DANA        64\n",
       "TUNAI       64\n",
       "OVO         52\n",
       "Name: Payment, dtype: int64"
      ]
     },
     "execution_count": 39,
     "metadata": {},
     "output_type": "execute_result"
    }
   ],
   "source": [
    "df['Payment'].value_counts()"
   ]
  },
  {
   "cell_type": "markdown",
   "metadata": {},
   "source": [
    "Dari output di atas terlihat bahwa metode pembayaran yang dilakukan oleh pelanggan tersebar secara rata dari kelima fitur yang disediakan. Namun dapat dikatakan bahwa mayoritas pelanggan melakukan pembayaran dengan uang elektronik. Hal ini dapat terjadi dengan anggapan bahwa fitur uang elektronik lebih praktis dan lebih sering mengadakan event promo. Sehingga mayoritas pelanggan tertarik untuk menggunakan fitur uang elektronik."
   ]
  },
  {
   "cell_type": "code",
   "execution_count": 40,
   "metadata": {},
   "outputs": [
    {
     "data": {
      "text/plain": [
       "0    171\n",
       "1    141\n",
       "Name: Gender, dtype: int64"
      ]
     },
     "execution_count": 40,
     "metadata": {},
     "output_type": "execute_result"
    }
   ],
   "source": [
    "df['Gender'].value_counts()"
   ]
  },
  {
   "cell_type": "markdown",
   "metadata": {},
   "source": [
    "Dari output di atas terlihat bahwa pelanggan kode 0 (wanita) lebih banyak daripada pelanggan kode 1 (pria)."
   ]
  },
  {
   "cell_type": "markdown",
   "metadata": {},
   "source": [
    "### Linear Regression"
   ]
  },
  {
   "cell_type": "markdown",
   "metadata": {},
   "source": [
    "Selanjutnya akan dilihat linear regression antara kumulatif penjualan chicken burger terhadap waktu. Dataset yang digunakan sudah dimodifikasi dengan menambahkan kolom kumulatif penjualan chicken burger."
   ]
  },
  {
   "cell_type": "code",
   "execution_count": 11,
   "metadata": {},
   "outputs": [],
   "source": [
    "dataset=pd.read_csv('dataset.csv')"
   ]
  },
  {
   "cell_type": "code",
   "execution_count": 12,
   "metadata": {},
   "outputs": [
    {
     "data": {
      "text/html": [
       "<div>\n",
       "<style scoped>\n",
       "    .dataframe tbody tr th:only-of-type {\n",
       "        vertical-align: middle;\n",
       "    }\n",
       "\n",
       "    .dataframe tbody tr th {\n",
       "        vertical-align: top;\n",
       "    }\n",
       "\n",
       "    .dataframe thead th {\n",
       "        text-align: right;\n",
       "    }\n",
       "</style>\n",
       "<table border=\"1\" class=\"dataframe\">\n",
       "  <thead>\n",
       "    <tr style=\"text-align: right;\">\n",
       "      <th></th>\n",
       "      <th>Timestamp</th>\n",
       "      <th>Type Burger</th>\n",
       "      <th>Code Burger</th>\n",
       "      <th>Amount Burger</th>\n",
       "      <th>Type Drink</th>\n",
       "      <th>Code Drink</th>\n",
       "      <th>Amount Drink</th>\n",
       "      <th>Gender</th>\n",
       "      <th>Payment</th>\n",
       "      <th>sumchicken</th>\n",
       "      <th>Hour</th>\n",
       "      <th>Minute</th>\n",
       "    </tr>\n",
       "  </thead>\n",
       "  <tbody>\n",
       "    <tr>\n",
       "      <th>0</th>\n",
       "      <td>10:01</td>\n",
       "      <td>Beef burger</td>\n",
       "      <td>1</td>\n",
       "      <td>6</td>\n",
       "      <td>Mineral water</td>\n",
       "      <td>1</td>\n",
       "      <td>3</td>\n",
       "      <td>1</td>\n",
       "      <td>DANA</td>\n",
       "      <td>0</td>\n",
       "      <td>10</td>\n",
       "      <td>01</td>\n",
       "    </tr>\n",
       "    <tr>\n",
       "      <th>1</th>\n",
       "      <td>10:04</td>\n",
       "      <td>Cheese burger</td>\n",
       "      <td>3</td>\n",
       "      <td>12</td>\n",
       "      <td>Coke</td>\n",
       "      <td>2</td>\n",
       "      <td>10</td>\n",
       "      <td>0</td>\n",
       "      <td>DANA</td>\n",
       "      <td>0</td>\n",
       "      <td>10</td>\n",
       "      <td>04</td>\n",
       "    </tr>\n",
       "    <tr>\n",
       "      <th>2</th>\n",
       "      <td>10:05</td>\n",
       "      <td>Double cheese burger</td>\n",
       "      <td>4</td>\n",
       "      <td>10</td>\n",
       "      <td>Mineral water</td>\n",
       "      <td>1</td>\n",
       "      <td>5</td>\n",
       "      <td>0</td>\n",
       "      <td>LINK AJA</td>\n",
       "      <td>0</td>\n",
       "      <td>10</td>\n",
       "      <td>05</td>\n",
       "    </tr>\n",
       "    <tr>\n",
       "      <th>3</th>\n",
       "      <td>10:06</td>\n",
       "      <td>Chicken burger</td>\n",
       "      <td>2</td>\n",
       "      <td>9</td>\n",
       "      <td>Coffe</td>\n",
       "      <td>3</td>\n",
       "      <td>9</td>\n",
       "      <td>0</td>\n",
       "      <td>DANA</td>\n",
       "      <td>2</td>\n",
       "      <td>10</td>\n",
       "      <td>06</td>\n",
       "    </tr>\n",
       "    <tr>\n",
       "      <th>4</th>\n",
       "      <td>10:07</td>\n",
       "      <td>Cheese burger</td>\n",
       "      <td>3</td>\n",
       "      <td>11</td>\n",
       "      <td>Coke</td>\n",
       "      <td>2</td>\n",
       "      <td>3</td>\n",
       "      <td>1</td>\n",
       "      <td>DANA</td>\n",
       "      <td>5</td>\n",
       "      <td>10</td>\n",
       "      <td>07</td>\n",
       "    </tr>\n",
       "  </tbody>\n",
       "</table>\n",
       "</div>"
      ],
      "text/plain": [
       "  Timestamp           Type Burger  Code Burger  Amount Burger     Type Drink  \\\n",
       "0     10:01           Beef burger            1              6  Mineral water   \n",
       "1     10:04         Cheese burger            3             12           Coke   \n",
       "2     10:05  Double cheese burger            4             10  Mineral water   \n",
       "3     10:06        Chicken burger            2              9          Coffe   \n",
       "4     10:07         Cheese burger            3             11           Coke   \n",
       "\n",
       "   Code Drink  Amount Drink  Gender   Payment  sumchicken Hour Minute  \n",
       "0           1             3       1      DANA           0   10     01  \n",
       "1           2            10       0      DANA           0   10     04  \n",
       "2           1             5       0  LINK AJA           0   10     05  \n",
       "3           3             9       0      DANA           2   10     06  \n",
       "4           2             3       1      DANA           5   10     07  "
      ]
     },
     "execution_count": 12,
     "metadata": {},
     "output_type": "execute_result"
    }
   ],
   "source": [
    "dataset['Hour']=dataset['Timestamp'].str[:2]\n",
    "dataset['Minute']=dataset['Timestamp'].str[3:]\n",
    "dataset.head()"
   ]
  },
  {
   "cell_type": "code",
   "execution_count": 13,
   "metadata": {},
   "outputs": [
    {
     "data": {
      "text/html": [
       "<div>\n",
       "<style scoped>\n",
       "    .dataframe tbody tr th:only-of-type {\n",
       "        vertical-align: middle;\n",
       "    }\n",
       "\n",
       "    .dataframe tbody tr th {\n",
       "        vertical-align: top;\n",
       "    }\n",
       "\n",
       "    .dataframe thead th {\n",
       "        text-align: right;\n",
       "    }\n",
       "</style>\n",
       "<table border=\"1\" class=\"dataframe\">\n",
       "  <thead>\n",
       "    <tr style=\"text-align: right;\">\n",
       "      <th></th>\n",
       "      <th>Timestamp</th>\n",
       "      <th>Type Burger</th>\n",
       "      <th>Code Burger</th>\n",
       "      <th>Amount Burger</th>\n",
       "      <th>Type Drink</th>\n",
       "      <th>Code Drink</th>\n",
       "      <th>Amount Drink</th>\n",
       "      <th>Gender</th>\n",
       "      <th>Payment</th>\n",
       "      <th>sumchicken</th>\n",
       "      <th>Hour</th>\n",
       "      <th>Minute</th>\n",
       "    </tr>\n",
       "  </thead>\n",
       "  <tbody>\n",
       "    <tr>\n",
       "      <th>64</th>\n",
       "      <td>11:51</td>\n",
       "      <td>Double cheese burger</td>\n",
       "      <td>4</td>\n",
       "      <td>8</td>\n",
       "      <td>Mineral water</td>\n",
       "      <td>1</td>\n",
       "      <td>4</td>\n",
       "      <td>1</td>\n",
       "      <td>LINK AJA</td>\n",
       "      <td>105</td>\n",
       "      <td>11</td>\n",
       "      <td>51</td>\n",
       "    </tr>\n",
       "    <tr>\n",
       "      <th>65</th>\n",
       "      <td>11:52</td>\n",
       "      <td>Beef burger</td>\n",
       "      <td>1</td>\n",
       "      <td>7</td>\n",
       "      <td>Mineral water</td>\n",
       "      <td>1</td>\n",
       "      <td>7</td>\n",
       "      <td>1</td>\n",
       "      <td>TUNAI</td>\n",
       "      <td>105</td>\n",
       "      <td>11</td>\n",
       "      <td>52</td>\n",
       "    </tr>\n",
       "    <tr>\n",
       "      <th>66</th>\n",
       "      <td>11:53</td>\n",
       "      <td>Chicken burger</td>\n",
       "      <td>2</td>\n",
       "      <td>11</td>\n",
       "      <td>None</td>\n",
       "      <td>0</td>\n",
       "      <td>0</td>\n",
       "      <td>0</td>\n",
       "      <td>DANA</td>\n",
       "      <td>116</td>\n",
       "      <td>11</td>\n",
       "      <td>53</td>\n",
       "    </tr>\n",
       "    <tr>\n",
       "      <th>67</th>\n",
       "      <td>11:58</td>\n",
       "      <td>Beef burger</td>\n",
       "      <td>1</td>\n",
       "      <td>10</td>\n",
       "      <td>Mineral water</td>\n",
       "      <td>1</td>\n",
       "      <td>3</td>\n",
       "      <td>1</td>\n",
       "      <td>DANA</td>\n",
       "      <td>126</td>\n",
       "      <td>11</td>\n",
       "      <td>58</td>\n",
       "    </tr>\n",
       "    <tr>\n",
       "      <th>68</th>\n",
       "      <td>11:59</td>\n",
       "      <td>Beef burger</td>\n",
       "      <td>1</td>\n",
       "      <td>9</td>\n",
       "      <td>Coffe</td>\n",
       "      <td>3</td>\n",
       "      <td>2</td>\n",
       "      <td>1</td>\n",
       "      <td>LINK AJA</td>\n",
       "      <td>135</td>\n",
       "      <td>11</td>\n",
       "      <td>59</td>\n",
       "    </tr>\n",
       "  </tbody>\n",
       "</table>\n",
       "</div>"
      ],
      "text/plain": [
       "   Timestamp           Type Burger  Code Burger  Amount Burger     Type Drink  \\\n",
       "64     11:51  Double cheese burger            4              8  Mineral water   \n",
       "65     11:52           Beef burger            1              7  Mineral water   \n",
       "66     11:53        Chicken burger            2             11           None   \n",
       "67     11:58           Beef burger            1             10  Mineral water   \n",
       "68     11:59           Beef burger            1              9          Coffe   \n",
       "\n",
       "    Code Drink  Amount Drink  Gender   Payment  sumchicken Hour Minute  \n",
       "64           1             4       1  LINK AJA         105   11     51  \n",
       "65           1             7       1     TUNAI         105   11     52  \n",
       "66           0             0       0      DANA         116   11     53  \n",
       "67           1             3       1      DANA         126   11     58  \n",
       "68           3             2       1  LINK AJA         135   11     59  "
      ]
     },
     "execution_count": 13,
     "metadata": {},
     "output_type": "execute_result"
    }
   ],
   "source": [
    "dataset.tail()"
   ]
  },
  {
   "cell_type": "code",
   "execution_count": 14,
   "metadata": {},
   "outputs": [
    {
     "data": {
      "text/html": [
       "<div>\n",
       "<style scoped>\n",
       "    .dataframe tbody tr th:only-of-type {\n",
       "        vertical-align: middle;\n",
       "    }\n",
       "\n",
       "    .dataframe tbody tr th {\n",
       "        vertical-align: top;\n",
       "    }\n",
       "\n",
       "    .dataframe thead th {\n",
       "        text-align: right;\n",
       "    }\n",
       "</style>\n",
       "<table border=\"1\" class=\"dataframe\">\n",
       "  <thead>\n",
       "    <tr style=\"text-align: right;\">\n",
       "      <th></th>\n",
       "      <th>Timestamp</th>\n",
       "      <th>Type Burger</th>\n",
       "      <th>Code Burger</th>\n",
       "      <th>Amount Burger</th>\n",
       "      <th>Type Drink</th>\n",
       "      <th>Code Drink</th>\n",
       "      <th>Amount Drink</th>\n",
       "      <th>Gender</th>\n",
       "      <th>Payment</th>\n",
       "      <th>sumchicken</th>\n",
       "      <th>Hour</th>\n",
       "      <th>Minute</th>\n",
       "      <th>time</th>\n",
       "    </tr>\n",
       "  </thead>\n",
       "  <tbody>\n",
       "    <tr>\n",
       "      <th>0</th>\n",
       "      <td>10:01</td>\n",
       "      <td>Beef burger</td>\n",
       "      <td>1</td>\n",
       "      <td>6</td>\n",
       "      <td>Mineral water</td>\n",
       "      <td>1</td>\n",
       "      <td>3</td>\n",
       "      <td>1</td>\n",
       "      <td>DANA</td>\n",
       "      <td>0</td>\n",
       "      <td>10</td>\n",
       "      <td>01</td>\n",
       "      <td>1001</td>\n",
       "    </tr>\n",
       "    <tr>\n",
       "      <th>1</th>\n",
       "      <td>10:04</td>\n",
       "      <td>Cheese burger</td>\n",
       "      <td>3</td>\n",
       "      <td>12</td>\n",
       "      <td>Coke</td>\n",
       "      <td>2</td>\n",
       "      <td>10</td>\n",
       "      <td>0</td>\n",
       "      <td>DANA</td>\n",
       "      <td>0</td>\n",
       "      <td>10</td>\n",
       "      <td>04</td>\n",
       "      <td>1004</td>\n",
       "    </tr>\n",
       "    <tr>\n",
       "      <th>2</th>\n",
       "      <td>10:05</td>\n",
       "      <td>Double cheese burger</td>\n",
       "      <td>4</td>\n",
       "      <td>10</td>\n",
       "      <td>Mineral water</td>\n",
       "      <td>1</td>\n",
       "      <td>5</td>\n",
       "      <td>0</td>\n",
       "      <td>LINK AJA</td>\n",
       "      <td>0</td>\n",
       "      <td>10</td>\n",
       "      <td>05</td>\n",
       "      <td>1005</td>\n",
       "    </tr>\n",
       "    <tr>\n",
       "      <th>3</th>\n",
       "      <td>10:06</td>\n",
       "      <td>Chicken burger</td>\n",
       "      <td>2</td>\n",
       "      <td>9</td>\n",
       "      <td>Coffe</td>\n",
       "      <td>3</td>\n",
       "      <td>9</td>\n",
       "      <td>0</td>\n",
       "      <td>DANA</td>\n",
       "      <td>2</td>\n",
       "      <td>10</td>\n",
       "      <td>06</td>\n",
       "      <td>1006</td>\n",
       "    </tr>\n",
       "    <tr>\n",
       "      <th>4</th>\n",
       "      <td>10:07</td>\n",
       "      <td>Cheese burger</td>\n",
       "      <td>3</td>\n",
       "      <td>11</td>\n",
       "      <td>Coke</td>\n",
       "      <td>2</td>\n",
       "      <td>3</td>\n",
       "      <td>1</td>\n",
       "      <td>DANA</td>\n",
       "      <td>5</td>\n",
       "      <td>10</td>\n",
       "      <td>07</td>\n",
       "      <td>1007</td>\n",
       "    </tr>\n",
       "  </tbody>\n",
       "</table>\n",
       "</div>"
      ],
      "text/plain": [
       "  Timestamp           Type Burger  Code Burger  Amount Burger     Type Drink  \\\n",
       "0     10:01           Beef burger            1              6  Mineral water   \n",
       "1     10:04         Cheese burger            3             12           Coke   \n",
       "2     10:05  Double cheese burger            4             10  Mineral water   \n",
       "3     10:06        Chicken burger            2              9          Coffe   \n",
       "4     10:07         Cheese burger            3             11           Coke   \n",
       "\n",
       "   Code Drink  Amount Drink  Gender   Payment  sumchicken Hour Minute  time  \n",
       "0           1             3       1      DANA           0   10     01  1001  \n",
       "1           2            10       0      DANA           0   10     04  1004  \n",
       "2           1             5       0  LINK AJA           0   10     05  1005  \n",
       "3           3             9       0      DANA           2   10     06  1006  \n",
       "4           2             3       1      DANA           5   10     07  1007  "
      ]
     },
     "execution_count": 14,
     "metadata": {},
     "output_type": "execute_result"
    }
   ],
   "source": [
    "# Ubah hour and min to int\n",
    "#dataset2['Hour'] = dataset2['Hour'].astype(int)\n",
    "#dataset2['Minute'] = dataset2['Minute'].astype(int)\n",
    "#dataset2.head()\n",
    "\n",
    "#merging hour and minute\n",
    "dataset['time'] = dataset[['Hour', 'Minute']].apply(lambda x: ''.join(x), axis=1)\n",
    "dataset['time'] = dataset['time'].astype(int)\n",
    "dataset.head()"
   ]
  },
  {
   "cell_type": "code",
   "execution_count": 15,
   "metadata": {},
   "outputs": [],
   "source": [
    "# Independent Variable (X) Code Burger\n",
    "# Dependent Variable (y) amount Burger\n",
    "X = dataset.iloc[:,-1].values\n",
    "y = dataset.iloc[:,9].values\n",
    "\n",
    "# Splitting the dataset into the Training set and Test set\n",
    "from sklearn.model_selection import train_test_split\n",
    "X_train, X_test, y_train, y_test = train_test_split(X, y, test_size = 1/3, random_state = 0)\n",
    "\n",
    "X_train = pd.DataFrame(X_train)\n",
    "y_train = pd.DataFrame(y_train)\n",
    "\n",
    "X_test = pd.DataFrame(X_test)\n",
    "y_test = pd.DataFrame(y_test)\n",
    "\n",
    "# Fitting Simple Linear Regression to the Training set\n",
    "from sklearn.linear_model import LinearRegression\n",
    "regressor = LinearRegression()\n",
    "regressor.fit(X_train, y_train)\n",
    "\n",
    "# Predicting the Test set results\n",
    "y_pred = regressor.predict(X_test)"
   ]
  },
  {
   "cell_type": "code",
   "execution_count": 16,
   "metadata": {},
   "outputs": [
    {
     "data": {
      "image/png": "[encoded data removed]",
      "text/plain": [
       "<Figure size 432x288 with 1 Axes>"
      ]
     },
     "metadata": {
      "needs_background": "light"
     },
     "output_type": "display_data"
    }
   ],
   "source": [
    "# Visualising the Training set results\n",
    "plt.scatter(X_train, y_train, color = 'red')\n",
    "plt.plot(X_train, regressor.predict(X_train), color = 'blue')\n",
    "plt.title('Time vs SumChicken (Training set)')\n",
    "plt.xlabel('Time')\n",
    "plt.ylabel('SumChicken')\n",
    "plt.show()"
   ]
  },
  {
   "cell_type": "code",
   "execution_count": 17,
   "metadata": {},
   "outputs": [
    {
     "data": {
      "image/png": "[encoded data removed]",
      "text/plain": [
       "<Figure size 432x288 with 1 Axes>"
      ]
     },
     "metadata": {
      "needs_background": "light"
     },
     "output_type": "display_data"
    }
   ],
   "source": [
    "# Visualising the Test set results\n",
    "plt.scatter(X_test, y_test, color = 'red')\n",
    "plt.plot(X_train, regressor.predict(X_train), color = 'blue')\n",
    "plt.title('Time vs SumChicken (Test set)')\n",
    "plt.xlabel('Time')\n",
    "plt.ylabel('SumChicken')\n",
    "plt.show()"
   ]
  },
  {
   "cell_type": "code",
   "execution_count": 18,
   "metadata": {},
   "outputs": [
    {
     "name": "stdout",
     "output_type": "stream",
     "text": [
      "Nilai R2 dari linear regression :  0.8315133068021473\n"
     ]
    }
   ],
   "source": [
    "# Finding r2_score\n",
    "from sklearn.metrics import r2_score\n",
    "r2score = r2_score(y_test, y_pred)\n",
    "print('Nilai R2 dari linear regression : ', r2score)"
   ]
  },
  {
   "cell_type": "code",
   "execution_count": 19,
   "metadata": {},
   "outputs": [
    {
     "name": "stdout",
     "output_type": "stream",
     "text": [
      "Prediksi nilai kumulatif dari banyaknya penjualan chicken burger sampai dengan pukul 12:00 :  [78.52580886]\n"
     ]
    }
   ],
   "source": [
    "#sumchicken until 12.00\n",
    "y_pred = y_pred[-1]\n",
    "print('Prediksi nilai kumulatif dari banyaknya penjualan chicken burger sampai dengan pukul 12:00 : ', y_pred)"
   ]
  },
  {
   "cell_type": "markdown",
   "metadata": {},
   "source": [
    "### Polynomial Regression"
   ]
  },
  {
   "cell_type": "code",
   "execution_count": 61,
   "metadata": {},
   "outputs": [
    {
     "data": {
      "text/html": [
       "<div>\n",
       "<style scoped>\n",
       "    .dataframe tbody tr th:only-of-type {\n",
       "        vertical-align: middle;\n",
       "    }\n",
       "\n",
       "    .dataframe tbody tr th {\n",
       "        vertical-align: top;\n",
       "    }\n",
       "\n",
       "    .dataframe thead th {\n",
       "        text-align: right;\n",
       "    }\n",
       "</style>\n",
       "<table border=\"1\" class=\"dataframe\">\n",
       "  <thead>\n",
       "    <tr style=\"text-align: right;\">\n",
       "      <th></th>\n",
       "      <th>Timestamp</th>\n",
       "      <th>Type Burger</th>\n",
       "      <th>Code Burger</th>\n",
       "      <th>Amount Burger</th>\n",
       "      <th>Type Drink</th>\n",
       "      <th>Code Drink</th>\n",
       "      <th>Amount Drink</th>\n",
       "      <th>Gender</th>\n",
       "      <th>Payment</th>\n",
       "      <th>Hour</th>\n",
       "      <th>Minute</th>\n",
       "    </tr>\n",
       "  </thead>\n",
       "  <tbody>\n",
       "    <tr>\n",
       "      <th>0</th>\n",
       "      <td>10:01</td>\n",
       "      <td>Beef burger</td>\n",
       "      <td>1</td>\n",
       "      <td>6</td>\n",
       "      <td>Mineral water</td>\n",
       "      <td>1</td>\n",
       "      <td>3</td>\n",
       "      <td>1</td>\n",
       "      <td>DANA</td>\n",
       "      <td>10</td>\n",
       "      <td>01</td>\n",
       "    </tr>\n",
       "    <tr>\n",
       "      <th>1</th>\n",
       "      <td>10:04</td>\n",
       "      <td>Cheese burger</td>\n",
       "      <td>3</td>\n",
       "      <td>12</td>\n",
       "      <td>Coke</td>\n",
       "      <td>2</td>\n",
       "      <td>10</td>\n",
       "      <td>0</td>\n",
       "      <td>DANA</td>\n",
       "      <td>10</td>\n",
       "      <td>04</td>\n",
       "    </tr>\n",
       "    <tr>\n",
       "      <th>2</th>\n",
       "      <td>10:05</td>\n",
       "      <td>Double cheese burger</td>\n",
       "      <td>4</td>\n",
       "      <td>10</td>\n",
       "      <td>Mineral water</td>\n",
       "      <td>1</td>\n",
       "      <td>5</td>\n",
       "      <td>0</td>\n",
       "      <td>LINK AJA</td>\n",
       "      <td>10</td>\n",
       "      <td>05</td>\n",
       "    </tr>\n",
       "    <tr>\n",
       "      <th>3</th>\n",
       "      <td>10:06</td>\n",
       "      <td>Chicken burger</td>\n",
       "      <td>2</td>\n",
       "      <td>9</td>\n",
       "      <td>Coffe</td>\n",
       "      <td>3</td>\n",
       "      <td>9</td>\n",
       "      <td>0</td>\n",
       "      <td>DANA</td>\n",
       "      <td>10</td>\n",
       "      <td>06</td>\n",
       "    </tr>\n",
       "    <tr>\n",
       "      <th>4</th>\n",
       "      <td>10:07</td>\n",
       "      <td>Cheese burger</td>\n",
       "      <td>3</td>\n",
       "      <td>11</td>\n",
       "      <td>Coke</td>\n",
       "      <td>2</td>\n",
       "      <td>3</td>\n",
       "      <td>1</td>\n",
       "      <td>DANA</td>\n",
       "      <td>10</td>\n",
       "      <td>07</td>\n",
       "    </tr>\n",
       "  </tbody>\n",
       "</table>\n",
       "</div>"
      ],
      "text/plain": [
       "  Timestamp           Type Burger  Code Burger  Amount Burger     Type Drink  \\\n",
       "0     10:01           Beef burger            1              6  Mineral water   \n",
       "1     10:04         Cheese burger            3             12           Coke   \n",
       "2     10:05  Double cheese burger            4             10  Mineral water   \n",
       "3     10:06        Chicken burger            2              9          Coffe   \n",
       "4     10:07         Cheese burger            3             11           Coke   \n",
       "\n",
       "   Code Drink  Amount Drink  Gender   Payment Hour Minute  \n",
       "0           1             3       1      DANA   10     01  \n",
       "1           2            10       0      DANA   10     04  \n",
       "2           1             5       0  LINK AJA   10     05  \n",
       "3           3             9       0      DANA   10     06  \n",
       "4           2             3       1      DANA   10     07  "
      ]
     },
     "execution_count": 61,
     "metadata": {},
     "output_type": "execute_result"
    }
   ],
   "source": [
    "# Menambahkan kolom Hour dan Minute pada datasert Burger Star\n",
    "df['Hour']=df['Timestamp'].str[:2]\n",
    "df['Minute']=df['Timestamp'].str[3:]\n",
    "df.head()"
   ]
  },
  {
   "cell_type": "code",
   "execution_count": 62,
   "metadata": {},
   "outputs": [
    {
     "data": {
      "text/html": [
       "<div>\n",
       "<style scoped>\n",
       "    .dataframe tbody tr th:only-of-type {\n",
       "        vertical-align: middle;\n",
       "    }\n",
       "\n",
       "    .dataframe tbody tr th {\n",
       "        vertical-align: top;\n",
       "    }\n",
       "\n",
       "    .dataframe thead th {\n",
       "        text-align: right;\n",
       "    }\n",
       "</style>\n",
       "<table border=\"1\" class=\"dataframe\">\n",
       "  <thead>\n",
       "    <tr style=\"text-align: right;\">\n",
       "      <th></th>\n",
       "      <th>Timestamp</th>\n",
       "      <th>Type Burger</th>\n",
       "      <th>Code Burger</th>\n",
       "      <th>Amount Burger</th>\n",
       "      <th>Type Drink</th>\n",
       "      <th>Code Drink</th>\n",
       "      <th>Amount Drink</th>\n",
       "      <th>Gender</th>\n",
       "      <th>Payment</th>\n",
       "      <th>Hour</th>\n",
       "      <th>Minute</th>\n",
       "      <th>Time</th>\n",
       "    </tr>\n",
       "  </thead>\n",
       "  <tbody>\n",
       "    <tr>\n",
       "      <th>0</th>\n",
       "      <td>10:01</td>\n",
       "      <td>Beef burger</td>\n",
       "      <td>1</td>\n",
       "      <td>6</td>\n",
       "      <td>Mineral water</td>\n",
       "      <td>1</td>\n",
       "      <td>3</td>\n",
       "      <td>1</td>\n",
       "      <td>DANA</td>\n",
       "      <td>10</td>\n",
       "      <td>01</td>\n",
       "      <td>1001</td>\n",
       "    </tr>\n",
       "    <tr>\n",
       "      <th>1</th>\n",
       "      <td>10:04</td>\n",
       "      <td>Cheese burger</td>\n",
       "      <td>3</td>\n",
       "      <td>12</td>\n",
       "      <td>Coke</td>\n",
       "      <td>2</td>\n",
       "      <td>10</td>\n",
       "      <td>0</td>\n",
       "      <td>DANA</td>\n",
       "      <td>10</td>\n",
       "      <td>04</td>\n",
       "      <td>1004</td>\n",
       "    </tr>\n",
       "    <tr>\n",
       "      <th>2</th>\n",
       "      <td>10:05</td>\n",
       "      <td>Double cheese burger</td>\n",
       "      <td>4</td>\n",
       "      <td>10</td>\n",
       "      <td>Mineral water</td>\n",
       "      <td>1</td>\n",
       "      <td>5</td>\n",
       "      <td>0</td>\n",
       "      <td>LINK AJA</td>\n",
       "      <td>10</td>\n",
       "      <td>05</td>\n",
       "      <td>1005</td>\n",
       "    </tr>\n",
       "    <tr>\n",
       "      <th>3</th>\n",
       "      <td>10:06</td>\n",
       "      <td>Chicken burger</td>\n",
       "      <td>2</td>\n",
       "      <td>9</td>\n",
       "      <td>Coffe</td>\n",
       "      <td>3</td>\n",
       "      <td>9</td>\n",
       "      <td>0</td>\n",
       "      <td>DANA</td>\n",
       "      <td>10</td>\n",
       "      <td>06</td>\n",
       "      <td>1006</td>\n",
       "    </tr>\n",
       "    <tr>\n",
       "      <th>4</th>\n",
       "      <td>10:07</td>\n",
       "      <td>Cheese burger</td>\n",
       "      <td>3</td>\n",
       "      <td>11</td>\n",
       "      <td>Coke</td>\n",
       "      <td>2</td>\n",
       "      <td>3</td>\n",
       "      <td>1</td>\n",
       "      <td>DANA</td>\n",
       "      <td>10</td>\n",
       "      <td>07</td>\n",
       "      <td>1007</td>\n",
       "    </tr>\n",
       "  </tbody>\n",
       "</table>\n",
       "</div>"
      ],
      "text/plain": [
       "  Timestamp           Type Burger  Code Burger  Amount Burger     Type Drink  \\\n",
       "0     10:01           Beef burger            1              6  Mineral water   \n",
       "1     10:04         Cheese burger            3             12           Coke   \n",
       "2     10:05  Double cheese burger            4             10  Mineral water   \n",
       "3     10:06        Chicken burger            2              9          Coffe   \n",
       "4     10:07         Cheese burger            3             11           Coke   \n",
       "\n",
       "   Code Drink  Amount Drink  Gender   Payment Hour Minute  Time  \n",
       "0           1             3       1      DANA   10     01  1001  \n",
       "1           2            10       0      DANA   10     04  1004  \n",
       "2           1             5       0  LINK AJA   10     05  1005  \n",
       "3           3             9       0      DANA   10     06  1006  \n",
       "4           2             3       1      DANA   10     07  1007  "
      ]
     },
     "execution_count": 62,
     "metadata": {},
     "output_type": "execute_result"
    }
   ],
   "source": [
    "# Merging hour and minute\n",
    "df['Time'] = df[['Hour', 'Minute']].apply(lambda x: ''.join(x), axis=1)\n",
    "df['Time'] = df['Time'].astype(int)\n",
    "df.head()"
   ]
  },
  {
   "cell_type": "code",
   "execution_count": 66,
   "metadata": {},
   "outputs": [
    {
     "data": {
      "text/plain": [
       "0     9.0\n",
       "1    18.0\n",
       "2    29.0\n",
       "3    32.0\n",
       "4    39.0\n",
       "dtype: float64"
      ]
     },
     "execution_count": 66,
     "metadata": {},
     "output_type": "execute_result"
    }
   ],
   "source": [
    "#Perhitungan Akumulasi Chicken Burger\n",
    "label=[]\n",
    "sum=0\n",
    "j=0\n",
    "k=0\n",
    "while j<22:\n",
    "    for i in df['Type Burger']:\n",
    "        if i =='Chicken burger':\n",
    "            sum=sum+float(df.loc[k,'Amount Burger'])\n",
    "            label.append(sum)\n",
    "            k=k+1\n",
    "            j=float(df.loc[k,'Time'])\n",
    "        else:\n",
    "            sum=sum\n",
    "            k=k+1\n",
    "            \n",
    "akumulasi_chickenburger=pd.Series(label)\n",
    "akumulasi_chickenburger.head()"
   ]
  },
  {
   "cell_type": "code",
   "execution_count": 91,
   "metadata": {},
   "outputs": [
    {
     "data": {
      "text/html": [
       "<div>\n",
       "<style scoped>\n",
       "    .dataframe tbody tr th:only-of-type {\n",
       "        vertical-align: middle;\n",
       "    }\n",
       "\n",
       "    .dataframe tbody tr th {\n",
       "        vertical-align: top;\n",
       "    }\n",
       "\n",
       "    .dataframe thead th {\n",
       "        text-align: right;\n",
       "    }\n",
       "</style>\n",
       "<table border=\"1\" class=\"dataframe\">\n",
       "  <thead>\n",
       "    <tr style=\"text-align: right;\">\n",
       "      <th></th>\n",
       "      <th>Time</th>\n",
       "      <th>Akumulasi</th>\n",
       "    </tr>\n",
       "  </thead>\n",
       "  <tbody>\n",
       "    <tr>\n",
       "      <th>0</th>\n",
       "      <td>1006</td>\n",
       "      <td>9.0</td>\n",
       "    </tr>\n",
       "    <tr>\n",
       "      <th>1</th>\n",
       "      <td>1016</td>\n",
       "      <td>18.0</td>\n",
       "    </tr>\n",
       "    <tr>\n",
       "      <th>2</th>\n",
       "      <td>1020</td>\n",
       "      <td>29.0</td>\n",
       "    </tr>\n",
       "    <tr>\n",
       "      <th>3</th>\n",
       "      <td>1039</td>\n",
       "      <td>32.0</td>\n",
       "    </tr>\n",
       "    <tr>\n",
       "      <th>4</th>\n",
       "      <td>1053</td>\n",
       "      <td>39.0</td>\n",
       "    </tr>\n",
       "  </tbody>\n",
       "</table>\n",
       "</div>"
      ],
      "text/plain": [
       "   Time  Akumulasi\n",
       "0  1006        9.0\n",
       "1  1016       18.0\n",
       "2  1020       29.0\n",
       "3  1039       32.0\n",
       "4  1053       39.0"
      ]
     },
     "execution_count": 91,
     "metadata": {},
     "output_type": "execute_result"
    }
   ],
   "source": [
    "waktu = df[df['Type Burger']=='Chicken burger'].Time\n",
    "tabel_distribusi_chickenburger = pd.DataFrame(list(zip(waktu,Akumulasi_chickenburger)),columns=['Time','Akumulasi'])\n",
    "tabel_distribusi_chickenburger.head()"
   ]
  },
  {
   "cell_type": "code",
   "execution_count": 92,
   "metadata": {},
   "outputs": [
    {
     "data": {
      "text/html": [
       "<div>\n",
       "<style scoped>\n",
       "    .dataframe tbody tr th:only-of-type {\n",
       "        vertical-align: middle;\n",
       "    }\n",
       "\n",
       "    .dataframe tbody tr th {\n",
       "        vertical-align: top;\n",
       "    }\n",
       "\n",
       "    .dataframe thead th {\n",
       "        text-align: right;\n",
       "    }\n",
       "</style>\n",
       "<table border=\"1\" class=\"dataframe\">\n",
       "  <thead>\n",
       "    <tr style=\"text-align: right;\">\n",
       "      <th></th>\n",
       "      <th>Time</th>\n",
       "      <th>Akumulasi</th>\n",
       "    </tr>\n",
       "  </thead>\n",
       "  <tbody>\n",
       "    <tr>\n",
       "      <th>0</th>\n",
       "      <td>1006</td>\n",
       "      <td>9.0</td>\n",
       "    </tr>\n",
       "    <tr>\n",
       "      <th>1</th>\n",
       "      <td>1016</td>\n",
       "      <td>18.0</td>\n",
       "    </tr>\n",
       "    <tr>\n",
       "      <th>2</th>\n",
       "      <td>1020</td>\n",
       "      <td>29.0</td>\n",
       "    </tr>\n",
       "    <tr>\n",
       "      <th>3</th>\n",
       "      <td>1039</td>\n",
       "      <td>32.0</td>\n",
       "    </tr>\n",
       "    <tr>\n",
       "      <th>4</th>\n",
       "      <td>1053</td>\n",
       "      <td>39.0</td>\n",
       "    </tr>\n",
       "    <tr>\n",
       "      <th>5</th>\n",
       "      <td>1105</td>\n",
       "      <td>46.0</td>\n",
       "    </tr>\n",
       "    <tr>\n",
       "      <th>6</th>\n",
       "      <td>1110</td>\n",
       "      <td>55.0</td>\n",
       "    </tr>\n",
       "    <tr>\n",
       "      <th>7</th>\n",
       "      <td>1114</td>\n",
       "      <td>58.0</td>\n",
       "    </tr>\n",
       "    <tr>\n",
       "      <th>8</th>\n",
       "      <td>1120</td>\n",
       "      <td>61.0</td>\n",
       "    </tr>\n",
       "    <tr>\n",
       "      <th>9</th>\n",
       "      <td>1124</td>\n",
       "      <td>66.0</td>\n",
       "    </tr>\n",
       "    <tr>\n",
       "      <th>10</th>\n",
       "      <td>1132</td>\n",
       "      <td>73.0</td>\n",
       "    </tr>\n",
       "    <tr>\n",
       "      <th>11</th>\n",
       "      <td>1137</td>\n",
       "      <td>82.0</td>\n",
       "    </tr>\n",
       "    <tr>\n",
       "      <th>12</th>\n",
       "      <td>1143</td>\n",
       "      <td>93.0</td>\n",
       "    </tr>\n",
       "    <tr>\n",
       "      <th>13</th>\n",
       "      <td>1146</td>\n",
       "      <td>100.0</td>\n",
       "    </tr>\n",
       "    <tr>\n",
       "      <th>14</th>\n",
       "      <td>1149</td>\n",
       "      <td>109.0</td>\n",
       "    </tr>\n",
       "    <tr>\n",
       "      <th>15</th>\n",
       "      <td>1153</td>\n",
       "      <td>120.0</td>\n",
       "    </tr>\n",
       "  </tbody>\n",
       "</table>\n",
       "</div>"
      ],
      "text/plain": [
       "    Time  Akumulasi\n",
       "0   1006        9.0\n",
       "1   1016       18.0\n",
       "2   1020       29.0\n",
       "3   1039       32.0\n",
       "4   1053       39.0\n",
       "5   1105       46.0\n",
       "6   1110       55.0\n",
       "7   1114       58.0\n",
       "8   1120       61.0\n",
       "9   1124       66.0\n",
       "10  1132       73.0\n",
       "11  1137       82.0\n",
       "12  1143       93.0\n",
       "13  1146      100.0\n",
       "14  1149      109.0\n",
       "15  1153      120.0"
      ]
     },
     "execution_count": 92,
     "metadata": {},
     "output_type": "execute_result"
    }
   ],
   "source": [
    "chickenburgerpagi = tabel_distribusi_chickenburger[tabel_distribusi_chickenburger.Time < 1200]\n",
    "chickenburgerpagi"
   ]
  },
  {
   "cell_type": "code",
   "execution_count": 74,
   "metadata": {},
   "outputs": [
    {
     "data": {
      "text/plain": [
       "LinearRegression(copy_X=True, fit_intercept=True, n_jobs=None, normalize=False)"
      ]
     },
     "execution_count": 74,
     "metadata": {},
     "output_type": "execute_result"
    }
   ],
   "source": [
    "# Importing the libraries\n",
    "import numpy as np\n",
    "import matplotlib.pyplot as plt\n",
    "import pandas as pd\n",
    "\n",
    "# Independent Variable (X) Code Burger\n",
    "# Dependent Variable (y) amount Burger\n",
    "X = chickenburgerpagi.iloc[:,0:1].values\n",
    "y = chickenburgerpagi.iloc[:,-1].values\n",
    "\n",
    "\n",
    "# Fitting Polynomial Regression to the dataset\n",
    "from sklearn.preprocessing import PolynomialFeatures\n",
    "poly_reg = PolynomialFeatures(degree = 3)\n",
    "X_poly = poly_reg.fit_transform(X)\n",
    "poly_reg.fit(X_poly, y)\n",
    "lin_reg_2 = LinearRegression()\n",
    "lin_reg_2.fit(X_poly, y)"
   ]
  },
  {
   "cell_type": "code",
   "execution_count": 75,
   "metadata": {},
   "outputs": [
    {
     "data": {
      "image/png": "[encoded data removed]",
      "text/plain": [
       "<Figure size 432x288 with 1 Axes>"
      ]
     },
     "metadata": {
      "needs_background": "light"
     },
     "output_type": "display_data"
    }
   ],
   "source": [
    "# Visualising the Polynomial Regression results\n",
    "plt.scatter(X, y, color = 'red')\n",
    "plt.plot(X, lin_reg_2.predict(poly_reg.fit_transform(X)), color = 'blue')\n",
    "plt.title('Polynomial Regression')\n",
    "plt.xlabel('Time')\n",
    "plt.ylabel('SumChicken')\n",
    "plt.show()"
   ]
  },
  {
   "cell_type": "code",
   "execution_count": 76,
   "metadata": {},
   "outputs": [
    {
     "data": {
      "image/png": "[encoded data removed]",
      "text/plain": [
       "<Figure size 432x288 with 1 Axes>"
      ]
     },
     "metadata": {
      "needs_background": "light"
     },
     "output_type": "display_data"
    }
   ],
   "source": [
    "# Visualising the Polynomial Regression results (for higher resolution and smoother curve)\n",
    "X_grid = np.arange(min(X), max(X), 0.1)\n",
    "X_grid = X_grid.reshape((len(X_grid), 1))\n",
    "plt.scatter(X, y, color = 'red')\n",
    "plt.plot(X_grid, lin_reg_2.predict(poly_reg.fit_transform(X_grid)), color = 'blue')\n",
    "plt.title('Polynomial Regression')\n",
    "plt.xlabel('Time')\n",
    "plt.ylabel('SumChicken')\n",
    "plt.show()"
   ]
  },
  {
   "cell_type": "code",
   "execution_count": 98,
   "metadata": {},
   "outputs": [
    {
     "name": "stdout",
     "output_type": "stream",
     "text": [
      "Nilai prediksi banyaknya chicken burger yang terjual sampai dengan pukul 11.00 :  38.32093608190189\n"
     ]
    }
   ],
   "source": [
    "#sumchicken until 11.00\n",
    "y_pred11 = lin_reg_2.predict(poly_reg.fit_transform(X))[4]\n",
    "print('Nilai prediksi banyaknya chicken burger yang terjual sampai dengan pukul 11.00 : ', y_pred11)"
   ]
  },
  {
   "cell_type": "code",
   "execution_count": 97,
   "metadata": {},
   "outputs": [
    {
     "name": "stdout",
     "output_type": "stream",
     "text": [
      "Nilai prediksi banyaknya chicken burger yang terjual sampai dengan pukul 12.00 :  117.68867102483637\n"
     ]
    }
   ],
   "source": [
    "#sumchicken until 12.00\n",
    "y_pred12 = lin_reg_2.predict(poly_reg.fit_transform(X))[-1]\n",
    "print('Nilai prediksi banyaknya chicken burger yang terjual sampai dengan pukul 12.00 : ', y_pred12)"
   ]
  },
  {
   "cell_type": "markdown",
   "metadata": {},
   "source": [
    "### Association Method"
   ]
  },
  {
   "cell_type": "code",
   "execution_count": 31,
   "metadata": {},
   "outputs": [],
   "source": [
    "df_acc = df.drop(['Timestamp','Code Burger','Amount Burger','Code Drink','Amount Drink','Gender','Payment','Jam'],axis=1)"
   ]
  },
  {
   "cell_type": "code",
   "execution_count": 32,
   "metadata": {},
   "outputs": [
    {
     "data": {
      "text/html": [
       "<div>\n",
       "<style scoped>\n",
       "    .dataframe tbody tr th:only-of-type {\n",
       "        vertical-align: middle;\n",
       "    }\n",
       "\n",
       "    .dataframe tbody tr th {\n",
       "        vertical-align: top;\n",
       "    }\n",
       "\n",
       "    .dataframe thead th {\n",
       "        text-align: right;\n",
       "    }\n",
       "</style>\n",
       "<table border=\"1\" class=\"dataframe\">\n",
       "  <thead>\n",
       "    <tr style=\"text-align: right;\">\n",
       "      <th></th>\n",
       "      <th>Type Burger</th>\n",
       "      <th>Type Drink</th>\n",
       "    </tr>\n",
       "  </thead>\n",
       "  <tbody>\n",
       "    <tr>\n",
       "      <th>0</th>\n",
       "      <td>Beef burger</td>\n",
       "      <td>Mineral water</td>\n",
       "    </tr>\n",
       "    <tr>\n",
       "      <th>1</th>\n",
       "      <td>Cheese burger</td>\n",
       "      <td>Coke</td>\n",
       "    </tr>\n",
       "    <tr>\n",
       "      <th>2</th>\n",
       "      <td>Double cheese burger</td>\n",
       "      <td>Mineral water</td>\n",
       "    </tr>\n",
       "    <tr>\n",
       "      <th>3</th>\n",
       "      <td>Chicken burger</td>\n",
       "      <td>Coffe</td>\n",
       "    </tr>\n",
       "    <tr>\n",
       "      <th>4</th>\n",
       "      <td>Cheese burger</td>\n",
       "      <td>Coke</td>\n",
       "    </tr>\n",
       "    <tr>\n",
       "      <th>5</th>\n",
       "      <td>Double cheese burger</td>\n",
       "      <td>Mineral water</td>\n",
       "    </tr>\n",
       "    <tr>\n",
       "      <th>6</th>\n",
       "      <td>Beef burger</td>\n",
       "      <td>Mineral water</td>\n",
       "    </tr>\n",
       "    <tr>\n",
       "      <th>7</th>\n",
       "      <td>Beef burger</td>\n",
       "      <td>Mineral water</td>\n",
       "    </tr>\n",
       "    <tr>\n",
       "      <th>8</th>\n",
       "      <td>Double cheese burger</td>\n",
       "      <td>Coffe</td>\n",
       "    </tr>\n",
       "    <tr>\n",
       "      <th>9</th>\n",
       "      <td>Chicken burger</td>\n",
       "      <td>Coffe</td>\n",
       "    </tr>\n",
       "  </tbody>\n",
       "</table>\n",
       "</div>"
      ],
      "text/plain": [
       "            Type Burger     Type Drink\n",
       "0           Beef burger  Mineral water\n",
       "1         Cheese burger           Coke\n",
       "2  Double cheese burger  Mineral water\n",
       "3        Chicken burger          Coffe\n",
       "4         Cheese burger           Coke\n",
       "5  Double cheese burger  Mineral water\n",
       "6           Beef burger  Mineral water\n",
       "7           Beef burger  Mineral water\n",
       "8  Double cheese burger          Coffe\n",
       "9        Chicken burger          Coffe"
      ]
     },
     "execution_count": 32,
     "metadata": {},
     "output_type": "execute_result"
    }
   ],
   "source": [
    "df_acc.head(10)"
   ]
  },
  {
   "cell_type": "markdown",
   "metadata": {},
   "source": [
    "Seperti yang telah disebutkan di awal bahwa metode asosiasi yang dilakukan adalah untuk mengetahui hubungan erat antar atribut yang mana ketika pelanggan memilih burger A maka akan diikuti oleh pemilihan minuman B atau sebaliknya. Analisis tersebut ditujukan untuk memberikan rekomendasi \"paket menu\" yang diminati oleh pelanggan. Sehingga dilakukan eliminasi features yang tidak dibutuhkan dari data set burger star. Pada kasus ini kami menggunakan features Type Burger dan Type Drink saja."
   ]
  },
  {
   "cell_type": "code",
   "execution_count": 33,
   "metadata": {},
   "outputs": [
    {
     "data": {
      "text/plain": [
       "[['Beef burger', 'Mineral water'],\n",
       " ['Cheese burger', 'Coke'],\n",
       " ['Double cheese burger', 'Mineral water'],\n",
       " ['Chicken burger', 'Coffe'],\n",
       " ['Cheese burger', 'Coke'],\n",
       " ['Double cheese burger', 'Mineral water'],\n",
       " ['Beef burger', 'Mineral water'],\n",
       " ['Beef burger', 'Mineral water'],\n",
       " ['Double cheese burger', 'Coffe'],\n",
       " ['Chicken burger', 'Coffe'],\n",
       " ['Cheese burger', 'Coke'],\n",
       " ['Beef burger', 'Mineral water'],\n",
       " ['Chicken burger', 'None'],\n",
       " ['Beef burger', 'Mineral water'],\n",
       " ['Beef burger', 'Mineral water'],\n",
       " ['Beef burger', 'Mineral water'],\n",
       " ['Beef burger', 'Mineral water'],\n",
       " ['Beef burger', 'Coffe'],\n",
       " ['Beef burger', 'Coffe'],\n",
       " ['Chicken burger', 'Coffe'],\n",
       " ['Cheese burger', 'Coke'],\n",
       " ['Double cheese burger', 'Mineral water'],\n",
       " ['Double cheese burger', 'Coffe'],\n",
       " ['Double cheese burger', 'Mineral water'],\n",
       " ['Beef burger', 'None'],\n",
       " ['Chicken burger', 'None'],\n",
       " ['Cheese burger', 'Coke'],\n",
       " ['Double cheese burger', 'Mineral water'],\n",
       " ['Beef burger', 'Mineral water'],\n",
       " ['Double cheese burger', 'Coffe'],\n",
       " ['Chicken burger', 'None'],\n",
       " ['Cheese burger', 'Coke'],\n",
       " ['Double cheese burger', 'Mineral water'],\n",
       " ['Chicken burger', 'Coffe'],\n",
       " ['Chicken burger', 'Coffe'],\n",
       " ['Cheese burger', 'Coke'],\n",
       " ['Beef burger', 'Coffe'],\n",
       " ['Chicken burger', 'Coffe'],\n",
       " ['Cheese burger', 'Coke'],\n",
       " ['Double cheese burger', 'Mineral water'],\n",
       " ['Double cheese burger', 'Coffe'],\n",
       " ['Chicken burger', 'None'],\n",
       " ['Cheese burger', 'Coke'],\n",
       " ['Double cheese burger', 'Mineral water'],\n",
       " ['Beef burger', 'None'],\n",
       " ['Beef burger', 'Coke'],\n",
       " ['Beef burger', 'Mineral water'],\n",
       " ['Beef burger', 'Mineral water'],\n",
       " ['Double cheese burger', 'Coffe'],\n",
       " ['Chicken burger', 'None'],\n",
       " ['Cheese burger', 'Coke'],\n",
       " ['Double cheese burger', 'Mineral water'],\n",
       " ['Chicken burger', 'Coffe'],\n",
       " ['Cheese burger', 'Coke'],\n",
       " ['Double cheese burger', 'Mineral water'],\n",
       " ['Beef burger', 'Mineral water'],\n",
       " ['Chicken burger', 'None'],\n",
       " ['Beef burger', 'Mineral water'],\n",
       " ['Double cheese burger', 'Coffe'],\n",
       " ['Chicken burger', 'None'],\n",
       " ['Cheese burger', 'Coke'],\n",
       " ['Double cheese burger', 'Mineral water'],\n",
       " ['Chicken burger', 'Coffe'],\n",
       " ['Cheese burger', 'Coke'],\n",
       " ['Double cheese burger', 'Mineral water'],\n",
       " ['Beef burger', 'Mineral water'],\n",
       " ['Chicken burger', 'None'],\n",
       " ['Beef burger', 'Mineral water'],\n",
       " ['Beef burger', 'Coffe'],\n",
       " ['Beef burger', 'Coke'],\n",
       " ['Beef burger', 'Mineral water'],\n",
       " ['Beef burger', 'Mineral water'],\n",
       " ['Beef burger', 'Mineral water'],\n",
       " ['Beef burger', 'Coffe'],\n",
       " ['Beef burger', 'None'],\n",
       " ['Beef burger', 'Coke'],\n",
       " ['Beef burger', 'Mineral water'],\n",
       " ['Beef burger', 'Mineral water'],\n",
       " ['Beef burger', 'Mineral water'],\n",
       " ['Beef burger', 'Mineral water'],\n",
       " ['Beef burger', 'Mineral water'],\n",
       " ['Beef burger', 'Coffe'],\n",
       " ['Beef burger', 'Coffe'],\n",
       " ['Beef burger', 'Coffe'],\n",
       " ['Beef burger', 'Coffe'],\n",
       " ['Chicken burger', 'Coffe'],\n",
       " ['Cheese burger', 'Coke'],\n",
       " ['Beef burger', 'Coffe'],\n",
       " ['Chicken burger', 'Coffe'],\n",
       " ['Cheese burger', 'Coke'],\n",
       " ['Double cheese burger', 'Mineral water'],\n",
       " ['Double cheese burger', 'Coffe'],\n",
       " ['Chicken burger', 'None'],\n",
       " ['Cheese burger', 'Coke'],\n",
       " ['Double cheese burger', 'Mineral water'],\n",
       " ['Beef burger', 'None'],\n",
       " ['Beef burger', 'Coke'],\n",
       " ['Beef burger', 'Mineral water'],\n",
       " ['Double cheese burger', 'Coffe'],\n",
       " ['Chicken burger', 'None'],\n",
       " ['Cheese burger', 'Coke'],\n",
       " ['Double cheese burger', 'Mineral water'],\n",
       " ['Chicken burger', 'Coffe'],\n",
       " ['Cheese burger', 'Coke'],\n",
       " ['Double cheese burger', 'Mineral water'],\n",
       " ['Beef burger', 'Mineral water'],\n",
       " ['Chicken burger', 'None'],\n",
       " ['Beef burger', 'Mineral water'],\n",
       " ['Double cheese burger', 'Coffe'],\n",
       " ['Chicken burger', 'None'],\n",
       " ['Cheese burger', 'Coke'],\n",
       " ['Beef burger', 'Mineral water'],\n",
       " ['Double cheese burger', 'Coffe'],\n",
       " ['Chicken burger', 'None'],\n",
       " ['Cheese burger', 'Coke'],\n",
       " ['Double cheese burger', 'Mineral water'],\n",
       " ['Chicken burger', 'Coffe'],\n",
       " ['Cheese burger', 'Coke'],\n",
       " ['Double cheese burger', 'Mineral water'],\n",
       " ['Beef burger', 'Mineral water'],\n",
       " ['Chicken burger', 'None'],\n",
       " ['Beef burger', 'Mineral water'],\n",
       " ['Double cheese burger', 'Coffe'],\n",
       " ['Chicken burger', 'None'],\n",
       " ['Cheese burger', 'Coke'],\n",
       " ['Double cheese burger', 'Mineral water'],\n",
       " ['Chicken burger', 'Coffe'],\n",
       " ['Cheese burger', 'Coke'],\n",
       " ['Double cheese burger', 'Mineral water'],\n",
       " ['Beef burger', 'Mineral water'],\n",
       " ['Chicken burger', 'None'],\n",
       " ['Beef burger', 'Mineral water'],\n",
       " ['Beef burger', 'Coffe'],\n",
       " ['Beef burger', 'Coke'],\n",
       " ['Beef burger', 'Mineral water'],\n",
       " ['Beef burger', 'Mineral water'],\n",
       " ['Beef burger', 'Mineral water'],\n",
       " ['Beef burger', 'Coffe'],\n",
       " ['Beef burger', 'None'],\n",
       " ['Beef burger', 'Coke'],\n",
       " ['Beef burger', 'Mineral water'],\n",
       " ['Beef burger', 'Mineral water'],\n",
       " ['Beef burger', 'Mineral water'],\n",
       " ['Beef burger', 'Mineral water'],\n",
       " ['Beef burger', 'Mineral water'],\n",
       " ['Beef burger', 'Coffe'],\n",
       " ['Beef burger', 'Coffe'],\n",
       " ['Beef burger', 'Coffe'],\n",
       " ['Beef burger', 'Coffe'],\n",
       " ['Chicken burger', 'Coffe'],\n",
       " ['Cheese burger', 'Coke'],\n",
       " ['Beef burger', 'Coffe'],\n",
       " ['Chicken burger', 'Coffe'],\n",
       " ['Cheese burger', 'Coke'],\n",
       " ['Double cheese burger', 'Mineral water'],\n",
       " ['Double cheese burger', 'Coffe'],\n",
       " ['Chicken burger', 'None'],\n",
       " ['Cheese burger', 'Coke'],\n",
       " ['Double cheese burger', 'Mineral water'],\n",
       " ['Beef burger', 'None'],\n",
       " ['Beef burger', 'Coke'],\n",
       " ['Beef burger', 'Mineral water'],\n",
       " ['Double cheese burger', 'Coffe'],\n",
       " ['Chicken burger', 'None'],\n",
       " ['Cheese burger', 'Coke'],\n",
       " ['Double cheese burger', 'Mineral water'],\n",
       " ['Chicken burger', 'Coffe'],\n",
       " ['Cheese burger', 'Coke'],\n",
       " ['Double cheese burger', 'Mineral water'],\n",
       " ['Beef burger', 'Mineral water'],\n",
       " ['Chicken burger', 'None'],\n",
       " ['Beef burger', 'Mineral water'],\n",
       " ['Double cheese burger', 'Coffe'],\n",
       " ['Chicken burger', 'None'],\n",
       " ['Cheese burger', 'Coke'],\n",
       " ['Double cheese burger', 'Mineral water'],\n",
       " ['Chicken burger', 'Coffe'],\n",
       " ['Chicken burger', 'Coffe'],\n",
       " ['Cheese burger', 'Coke'],\n",
       " ['Beef burger', 'Coffe'],\n",
       " ['Chicken burger', 'Coffe'],\n",
       " ['Cheese burger', 'Coke'],\n",
       " ['Double cheese burger', 'Mineral water'],\n",
       " ['Double cheese burger', 'Coffe'],\n",
       " ['Chicken burger', 'None'],\n",
       " ['Cheese burger', 'Coke'],\n",
       " ['Double cheese burger', 'Mineral water'],\n",
       " ['Beef burger', 'None'],\n",
       " ['Beef burger', 'Coke'],\n",
       " ['Beef burger', 'Mineral water'],\n",
       " ['Beef burger', 'Mineral water'],\n",
       " ['Double cheese burger', 'Coffe'],\n",
       " ['Chicken burger', 'None'],\n",
       " ['Cheese burger', 'Coke'],\n",
       " ['Double cheese burger', 'Mineral water'],\n",
       " ['Chicken burger', 'Coffe'],\n",
       " ['Cheese burger', 'Coke'],\n",
       " ['Double cheese burger', 'Mineral water'],\n",
       " ['Beef burger', 'Mineral water'],\n",
       " ['Chicken burger', 'None'],\n",
       " ['Beef burger', 'Mineral water'],\n",
       " ['Double cheese burger', 'Coffe'],\n",
       " ['Chicken burger', 'None'],\n",
       " ['Cheese burger', 'Coke'],\n",
       " ['Double cheese burger', 'Mineral water'],\n",
       " ['Chicken burger', 'Coffe'],\n",
       " ['Cheese burger', 'Coke'],\n",
       " ['Double cheese burger', 'Mineral water'],\n",
       " ['Beef burger', 'Mineral water'],\n",
       " ['Chicken burger', 'None'],\n",
       " ['Beef burger', 'Mineral water'],\n",
       " ['Beef burger', 'Coffe'],\n",
       " ['Beef burger', 'Coke'],\n",
       " ['Chicken burger', 'Coffe'],\n",
       " ['Cheese burger', 'Coke'],\n",
       " ['Chicken burger', 'Coffe'],\n",
       " ['Cheese burger', 'Coke'],\n",
       " ['Chicken burger', 'Coffe'],\n",
       " ['Cheese burger', 'Coke'],\n",
       " ['Chicken burger', 'Coffe'],\n",
       " ['Cheese burger', 'Coke'],\n",
       " ['Beef burger', 'Mineral water'],\n",
       " ['Beef burger', 'Mineral water'],\n",
       " ['Beef burger', 'Mineral water'],\n",
       " ['Beef burger', 'Coffe'],\n",
       " ['Beef burger', 'Coffe'],\n",
       " ['Beef burger', 'Coffe'],\n",
       " ['Beef burger', 'Coffe'],\n",
       " ['Chicken burger', 'Coffe'],\n",
       " ['Cheese burger', 'Coke'],\n",
       " ['Beef burger', 'Coffe'],\n",
       " ['Chicken burger', 'Coffe'],\n",
       " ['Cheese burger', 'Coke'],\n",
       " ['Double cheese burger', 'Mineral water'],\n",
       " ['Double cheese burger', 'Coffe'],\n",
       " ['Chicken burger', 'None'],\n",
       " ['Cheese burger', 'Coke'],\n",
       " ['Double cheese burger', 'Mineral water'],\n",
       " ['Beef burger', 'None'],\n",
       " ['Beef burger', 'Coke'],\n",
       " ['Beef burger', 'Mineral water'],\n",
       " ['Double cheese burger', 'Coffe'],\n",
       " ['Chicken burger', 'None'],\n",
       " ['Cheese burger', 'Coke'],\n",
       " ['Double cheese burger', 'Mineral water'],\n",
       " ['Chicken burger', 'Coffe'],\n",
       " ['Cheese burger', 'Coke'],\n",
       " ['Double cheese burger', 'Mineral water'],\n",
       " ['Beef burger', 'Mineral water'],\n",
       " ['Chicken burger', 'None'],\n",
       " ['Beef burger', 'Mineral water'],\n",
       " ['Double cheese burger', 'Coffe'],\n",
       " ['Chicken burger', 'None'],\n",
       " ['Cheese burger', 'Coke'],\n",
       " ['Double cheese burger', 'Mineral water'],\n",
       " ['Chicken burger', 'Coffe'],\n",
       " ['Chicken burger', 'Coffe'],\n",
       " ['Cheese burger', 'Coke'],\n",
       " ['Beef burger', 'Coffe'],\n",
       " ['Chicken burger', 'Coffe'],\n",
       " ['Cheese burger', 'Coke'],\n",
       " ['Double cheese burger', 'Mineral water'],\n",
       " ['Double cheese burger', 'Coffe'],\n",
       " ['Chicken burger', 'None'],\n",
       " ['Cheese burger', 'Coke'],\n",
       " ['Double cheese burger', 'Mineral water'],\n",
       " ['Beef burger', 'None'],\n",
       " ['Beef burger', 'Coke'],\n",
       " ['Beef burger', 'Mineral water'],\n",
       " ['Double cheese burger', 'Mineral water'],\n",
       " ['Chicken burger', 'Coffe'],\n",
       " ['Chicken burger', 'Coffe'],\n",
       " ['Cheese burger', 'Coke'],\n",
       " ['Beef burger', 'Coffe'],\n",
       " ['Chicken burger', 'Coffe'],\n",
       " ['Cheese burger', 'Coke'],\n",
       " ['Double cheese burger', 'Mineral water'],\n",
       " ['Double cheese burger', 'Coffe'],\n",
       " ['Chicken burger', 'None'],\n",
       " ['Cheese burger', 'Coke'],\n",
       " ['Double cheese burger', 'Mineral water'],\n",
       " ['Beef burger', 'None'],\n",
       " ['Beef burger', 'Coke'],\n",
       " ['Beef burger', 'Mineral water'],\n",
       " ['Beef burger', 'Mineral water'],\n",
       " ['Double cheese burger', 'Coffe'],\n",
       " ['Chicken burger', 'None'],\n",
       " ['Cheese burger', 'Coke'],\n",
       " ['Double cheese burger', 'Mineral water'],\n",
       " ['Chicken burger', 'Coffe'],\n",
       " ['Cheese burger', 'Coke'],\n",
       " ['Double cheese burger', 'Mineral water'],\n",
       " ['Beef burger', 'Mineral water'],\n",
       " ['Chicken burger', 'None'],\n",
       " ['Beef burger', 'Mineral water'],\n",
       " ['Double cheese burger', 'Coffe'],\n",
       " ['Chicken burger', 'None'],\n",
       " ['Cheese burger', 'Coke'],\n",
       " ['Double cheese burger', 'Mineral water'],\n",
       " ['Chicken burger', 'Coffe'],\n",
       " ['Cheese burger', 'Coke'],\n",
       " ['Double cheese burger', 'Mineral water'],\n",
       " ['Beef burger', 'Mineral water'],\n",
       " ['Chicken burger', 'None'],\n",
       " ['Beef burger', 'Mineral water'],\n",
       " ['Beef burger', 'Coffe'],\n",
       " ['Beef burger', 'Coke'],\n",
       " ['Beef burger', 'Mineral water'],\n",
       " ['Beef burger', 'Mineral water'],\n",
       " ['Beef burger', 'Mineral water'],\n",
       " ['Beef burger', 'Coffe'],\n",
       " ['Beef burger', 'None']]"
      ]
     },
     "execution_count": 33,
     "metadata": {},
     "output_type": "execute_result"
    }
   ],
   "source": [
    "transactions = []\n",
    "for i in range(0, 312):\n",
    "    transactions.append([str(df_acc.values[i,j]) for j in range(0,2)])\n",
    "transactions"
   ]
  },
  {
   "cell_type": "markdown",
   "metadata": {},
   "source": [
    "Mendefinisikan Type Burger dan Type Drink yang disimpan pada array transactions."
   ]
  },
  {
   "cell_type": "code",
   "execution_count": 34,
   "metadata": {},
   "outputs": [],
   "source": [
    "# Training Apriori on the dataset\n",
    "\n",
    "from apyori import apriori\n",
    "rules = apriori(transactions, min_support = 0.003, min_confidence = 0.2, min_lift = 1.1, min_length = 1)"
   ]
  },
  {
   "cell_type": "markdown",
   "metadata": {},
   "source": [
    "Mendefinisikan ketentuan dari asosiasi yang akan dibuat untuk dataset Burger Star. Dari code diatas terdapat beberapa definisi untuk batasa yang digunakan pada metode asosiasi, meliputi:\n",
    "1. support(B) = banyaknya kejadian B / total seluruh kejadian\n",
    "2. confidence(A -> B) = banyaknya kejadian A dan B / banyaknya kejadian A\n",
    "3. lift(A -> B) = confidence(A -> B) / support(B)\n",
    "\n",
    "<br> Kemudian dari definisi tersebut kami tentukan batasan yang digunakan adalah sbb:\n",
    "1. minimum support = 0.003\n",
    "2. minimum confidence = 0.2\n",
    "2. minimum lift = 1.1\n",
    "\n",
    "<br> Selanjutnya data pada array transaction diproses oleh rules yang telah ditentukan."
   ]
  },
  {
   "cell_type": "code",
   "execution_count": 94,
   "metadata": {},
   "outputs": [],
   "source": [
    "# Visualising the results\n",
    "results = list(rules)\n",
    "for i in results:\n",
    "    print(i)"
   ]
  },
  {
   "cell_type": "markdown",
   "metadata": {},
   "source": [
    "Data yang telah diproses dengan \"rules\" disimpan dalam bentuk list pada variabel result. Kemudian dilakukan code seperti di bawah guna menampilkan hasil asosiasi agar lebih mudah untuk dibaca. Hasil yang ditampilkan berurutan dari nilai support terbesar sampai terkecil sesuai dengan rentang nilai yang telah ditetapkan."
   ]
  },
  {
   "cell_type": "code",
   "execution_count": 93,
   "metadata": {},
   "outputs": [
    {
     "name": "stdout",
     "output_type": "stream",
     "text": [
      "Rule: Mineral water -> Beef burger\n",
      "Support: 0.20512820512820512\n",
      "Confidence: 0.5517241379310345\n",
      "Lift: 1.579247073710851\n",
      "=====================================\n",
      "Rule: Cheese burger -> Coke\n",
      "Support: 0.1794871794871795\n",
      "Confidence: 1.0\n",
      "Lift: 4.521739130434783\n",
      "=====================================\n",
      "Rule: Chicken burger -> Coffe\n",
      "Support: 0.11538461538461539\n",
      "Confidence: 0.5070422535211268\n",
      "Lift: 1.7976952624839948\n",
      "=====================================\n",
      "Rule: Chicken burger -> None\n",
      "Support: 0.11217948717948718\n",
      "Confidence: 0.49295774647887325\n",
      "Lift: 3.3435394978567055\n",
      "=====================================\n",
      "Rule: Double cheese burger -> Coffe\n",
      "Support: 0.07692307692307693\n",
      "Confidence: 0.27272727272727276\n",
      "Lift: 1.2332015810276682\n",
      "=====================================\n",
      "Rule: Double cheese burger -> Mineral water\n",
      "Support: 0.14423076923076922\n",
      "Confidence: 0.6521739130434783\n",
      "Lift: 1.8667730355005985\n",
      "=====================================\n"
     ]
    }
   ],
   "source": [
    "for item in results:\n",
    "\n",
    "    # first index of the inner list\n",
    "    # Contains base item and add item\n",
    "    pair = item[0] \n",
    "    items = [x for x in pair]\n",
    "    print(\"Rule: \" + items[0] + \" -> \" + items[1])\n",
    "\n",
    "    #second index of the inner list\n",
    "    print(\"Support: \" + str(item[1]))\n",
    "\n",
    "    #third index of the list located at 0th\n",
    "    #of the third index of the inner list\n",
    "\n",
    "    print(\"Confidence: \" + str(item[2][0][2]))\n",
    "    print(\"Lift: \" + str(item[2][0][3]))\n",
    "    print(\"=====================================\")"
   ]
  },
  {
   "cell_type": "markdown",
   "metadata": {},
   "source": [
    "Dari output association di atas maka akan dipilih rekomendasi promo untuk paket makanan coffe dan double cheese burger. Dikarena nilai confidence dari urutan/pasangan makanan dan minuman tersebut rendah. Sehingga untuk meningkatan produktivitas penjualanannya akan dilakukan rekomendasi promo pada waktu tertentu."
   ]
  }
 ],
 "metadata": {
  "kernelspec": {
   "display_name": "Python 3",
   "language": "python",
   "name": "python3"
  },
  "language_info": {
   "codemirror_mode": {
    "name": "ipython",
    "version": 3
   },
   "file_extension": ".py",
   "mimetype": "text/x-python",
   "name": "python",
   "nbconvert_exporter": "python",
   "pygments_lexer": "ipython3",
   "version": "3.7.3"
  }
 },
 "nbformat": 4,
 "nbformat_minor": 2
}
